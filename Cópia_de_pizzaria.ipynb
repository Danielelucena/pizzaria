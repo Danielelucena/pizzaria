{
  "nbformat": 4,
  "nbformat_minor": 0,
  "metadata": {
    "colab": {
      "provenance": [],
      "authorship_tag": "ABX9TyMTF/PzMueYEMXOzSMdyXE2",
      "include_colab_link": true
    },
    "kernelspec": {
      "name": "python3",
      "display_name": "Python 3"
    },
    "language_info": {
      "name": "python"
    }
  },
  "cells": [
    {
      "cell_type": "markdown",
      "metadata": {
        "id": "view-in-github",
        "colab_type": "text"
      },
      "source": [
        "<a href=\"https://colab.research.google.com/github/julia-camilo/pizzaria/blob/main/C%C3%B3pia_de_pizzaria.ipynb\" target=\"_parent\"><img src=\"https://colab.research.google.com/assets/colab-badge.svg\" alt=\"Open In Colab\"/></a>"
      ]
    },
    {
      "cell_type": "markdown",
      "source": [
        "Pizzaria"
      ],
      "metadata": {
        "id": "LdxtqviDz51f"
      }
    },
    {
      "cell_type": "code",
      "source": [
        "pizzaria = [\"chocolate\", \"marguerita\", \"4 queijos\", \"frango\"]\n",
        "pedido = []\n",
        "print(\"Bem vindo à funerária e pizzaria, onde o corpo de ontem é o prato do dia!!\")\n",
        "print(\"O que deseja fazer? Escolha de acordo com as opções:\")\n",
        "print(\"1. Ver o Cardápio\")\n",
        "print(\"2. Adicionar sabor ao pedido\")\n",
        "print(\"3. Remover algum sabor\")\n",
        "print(\"4. Excluir pedido\")\n",
        "print(\"5. Finalizar pedido\")\n",
        "print('6. Rever as opções')\n",
        "print(\"7. Ver seu pedido até o momento\")\n",
        "\n",
        "while True:\n",
        "  opcao = int (input(\"Opcao: \"))\n",
        "\n",
        "  if opcao == 1:\n",
        "    print(\"Cardápio: \", pizzaria)\n",
        "\n",
        "  if opcao == 2 :\n",
        "     desejo1 = input(\"Que sabor deseja adicionar ao pedido: \")\n",
        "     pedido.append(desejo1)\n",
        "\n",
        "  elif desejo1 in range(len(pizzaria)):\n",
        "    while pedido not in pizzaria:\n",
        "      print('Este sabor não disponível')\n",
        "      pedido.clear()\n",
        "\n",
        "  elif opcao == 3:\n",
        "    remover = input('Qual sabor deseja remover do pedido: ')\n",
        "    pedido.remove(remover)\n",
        "    print(remover, \"foi removido do pedido\")\n",
        "\n",
        "  if opcao == 4:\n",
        "    pedido.clear()\n",
        "\n",
        "  elif opcao == 5:\n",
        "    print(\"Seu pedido foi finalizado!!\")\n",
        "    break\n",
        "\n",
        "  elif opcao == 6:\n",
        "    print(\"Bem vindo à funerária e pizzaria, onde o corpo de ontem é o prato do dia!!\")\n",
        "    print(\"O que deseja fazer? Escolha de acordo com as opções:\")\n",
        "    print(\"1. Ver o Cardápio\")\n",
        "    print(\"2. Adicionar sabor ao pedido\")\n",
        "    print(\"3. Remover algum sabor\")\n",
        "    print(\"4. Excluir pedido\")\n",
        "    print(\"5. Finalizar pedido \")\n",
        "    print('6. Rever as opções')\n",
        "    print(\"7. Ver seu pedido até o momento\")\n",
        "\n",
        "  elif opcao == 7:\n",
        "    print(pedido)"
      ],
      "metadata": {
        "colab": {
          "base_uri": "https://localhost:8080/"
        },
        "id": "0O569oCVbaUu",
        "outputId": "0466e965-b669-4988-e688-5e1fa3ba0072"
      },
      "execution_count": null,
      "outputs": [
        {
          "output_type": "stream",
          "name": "stdout",
          "text": [
            "Bem vindo à funerária e pizzaria, onde o corpo de ontem é o prato do dia!!\n",
            "O que deseja fazer? Escolha de acordo com as opções:\n",
            "1. Ver o Cardápio\n",
            "2. Adicionar sabor ao pedido\n",
            "3. Remover algum sabor\n",
            "4. Excluir pedido\n",
            "5. Finalizar pedido\n",
            "6. Rever as opções\n",
            "7. Ver seu pedido até o momento\n",
            "Opcao: 1\n",
            "Cardápio:  ['chocolate', 'marguerita', '4 queijos', 'frango']\n",
            "Opcao: 2\n",
            "Que sabor deseja adicionar ao pedido: frango\n",
            "Opcao: 2\n",
            "Que sabor deseja adicionar ao pedido: chocolate\n",
            "Opcao: 3\n",
            "Qual sabor deseja remover do pedido: frango\n",
            "frango foi removido do pedido\n",
            "Opcao: 7\n",
            "['chocolate']\n",
            "Opcao: 5\n",
            "Seu pedido foi finalizado!!\n"
          ]
        }
      ]
    }
  ]
}