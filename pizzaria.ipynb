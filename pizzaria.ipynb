{
  "nbformat": 4,
  "nbformat_minor": 0,
  "metadata": {
    "colab": {
      "provenance": [],
      "authorship_tag": "ABX9TyOgM0Gq0/IM7ZRkR7x0lc15",
      "include_colab_link": true
    },
    "kernelspec": {
      "name": "python3",
      "display_name": "Python 3"
    },
    "language_info": {
      "name": "python"
    }
  },
  "cells": [
    {
      "cell_type": "markdown",
      "metadata": {
        "id": "view-in-github",
        "colab_type": "text"
      },
      "source": [
        "<a href=\"https://colab.research.google.com/github/julia-camilo/pizzaria/blob/main/pizzaria.ipynb\" target=\"_parent\"><img src=\"https://colab.research.google.com/assets/colab-badge.svg\" alt=\"Open In Colab\"/></a>"
      ]
    },
    {
      "cell_type": "markdown",
      "source": [],
      "metadata": {
        "id": "0a3S5LONXdQL"
      }
    },
    {
      "cell_type": "code",
      "execution_count": null,
      "metadata": {
        "id": "vcFGmjwO7DwQ",
        "colab": {
          "base_uri": "https://localhost:8080/"
        },
        "outputId": "50d8a5e0-2de2-4c38-eba3-b856e4e64eb4"
      },
      "outputs": [
        {
          "metadata": {
            "tags": null
          },
          "name": "stdout",
          "output_type": "stream",
          "text": [
            "****** Pizzaria ******\n",
            "1. Cardápio\n",
            "2. O que deseja adicionar ao pedido?\n",
            "3. Deseja adicionar mais alguma coisa ao pedido?\n",
            "4. Deseja ver o pedido?\n",
            "5. Deseja remover algo do seu pedido?\n",
            "6. Deseja finalizar o pedido?\n",
            "Cardápio:  ['chocolate', 'marguerita', '4 queijos', 'frango']\n",
            "****** Pizzaria ******\n",
            "1. Cardápio\n",
            "2. O que deseja adicionar ao pedido?\n",
            "3. Deseja adicionar mais alguma coisa ao pedido?\n",
            "4. Deseja ver o pedido?\n",
            "5. Deseja remover algo do seu pedido?\n",
            "6. Deseja finalizar o pedido?\n",
            "['chocolate']\n",
            "****** Pizzaria ******\n",
            "1. Cardápio\n",
            "2. O que deseja adicionar ao pedido?\n",
            "3. Deseja adicionar mais alguma coisa ao pedido?\n",
            "4. Deseja ver o pedido?\n",
            "5. Deseja remover algo do seu pedido?\n",
            "6. Deseja finalizar o pedido?\n"
          ]
        }
      ],
      "source": [
        "pizzaria = [\"chocolate\", \"marguerita\", \"4 queijos\", \"frango\"]\n",
        "pedido = []\n",
        "while True:\n",
        "  print(\"Bem vindo à funerária e pizzaria, onde o corpo de ontem é o prato do dia!!\")\n",
        "  print(\"1. Ver o Cardápio\")\n",
        "  print(\"2. Adicionar sabor ao pedido\")\n",
        "  print(\"3. Adicionar mais alguma coisa ao pedido\")\n",
        "  print(\"4. Excluir sabor do pedido\")\n",
        "  print(\"5. Finalizar pedido \")\n",
        "\n",
        "  x = int (input(\"Opcao: \"))\n",
        "\n",
        "  if x == 1:\n",
        "    print(\"Deseja ver o cardápio?: \", pizzaria)\n",
        "\n",
        "  elif x == 2:\n",
        "    desejo = input(\"Produto a ser cadastrado: \")\n",
        "    desejo.append(pedido)\n",
        "    print(pedido)\n",
        "\n",
        "  elif x == 3:\n",
        "    desejo= input(\"Produto a ser cadastrado: \")\n",
        "    desejo.insert(pedido)\n",
        "    print(pedido)\n",
        "\n",
        "  elif x == 4:\n",
        "    del desejo\n",
        "    print(pedido)\n",
        "\n",
        "  elif x == 5:\n",
        "    print(\"Pedido finalizado!!\")\n",
        "    break"
      ]
    }
  ]
}